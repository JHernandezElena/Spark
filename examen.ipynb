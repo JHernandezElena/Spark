{
 "cells": [
  {
   "cell_type": "code",
   "execution_count": null,
   "metadata": {},
   "outputs": [],
   "source": []
  },
  {
   "cell_type": "code",
   "execution_count": 127,
   "metadata": {},
   "outputs": [],
   "source": [
    "import os\n",
    "import re\n",
    "import pandas as pd\n",
    "import numpy as np\n",
    "\n",
    "from pyspark import SparkConf\n",
    "from pyspark.sql import SparkSession\n",
    "from pyspark.sql import Row\n",
    "from pyspark.sql import types\n",
    "\n",
    "import pyspark.sql.functions as F\n",
    "import pyspark.sql.types as T\n",
    "from pyspark.sql.window import Window\n",
    "\n"
   ]
  },
  {
   "cell_type": "code",
   "execution_count": 128,
   "metadata": {},
   "outputs": [],
   "source": [
    "conf = (\n",
    "\n",
    "    SparkConf()\n",
    "    .setAppName(u\"[Julia] Examen Tecnologias\")\n",
    "    .set(\"spark.executor.memory\", \"7g\")\n",
    "    .set(\"spark.executor.cores\", \"5\")\n",
    "    .set(\"spark.default.parallelism\", 400)\n",
    "    .set(\"spark.sql.shuffle.partitions\", 400) \n",
    "    .set(\"spark.dynamicAllocation.maxExecutors\", 2) \n",
    ")\n"
   ]
  },
  {
   "cell_type": "code",
   "execution_count": 129,
   "metadata": {},
   "outputs": [],
   "source": [
    "spark = (\n",
    "\n",
    "    SparkSession.builder\n",
    "    .config(conf=conf)\n",
    "    .enableHiveSupport()\n",
    "    .getOrCreate()\n",
    "\n",
    ")\n"
   ]
  },
  {
   "cell_type": "code",
   "execution_count": 130,
   "metadata": {},
   "outputs": [],
   "source": [
    "museos = (\n",
    "    \n",
    "    spark.read\n",
    "    .options(header=True, inferSchema=True, sep = \",\") ##INFERIR ESQEUMA\n",
    "    .csv('/datos/datasets_examen_1920/museos.csv')\n",
    ").cache()\n"
   ]
  },
  {
   "cell_type": "code",
   "execution_count": 17,
   "metadata": {},
   "outputs": [
    {
     "data": {
      "text/html": [
       "<div>\n",
       "<style scoped>\n",
       "    .dataframe tbody tr th:only-of-type {\n",
       "        vertical-align: middle;\n",
       "    }\n",
       "\n",
       "    .dataframe tbody tr th {\n",
       "        vertical-align: top;\n",
       "    }\n",
       "\n",
       "    .dataframe thead th {\n",
       "        text-align: right;\n",
       "    }\n",
       "</style>\n",
       "<table border=\"1\" class=\"dataframe\">\n",
       "  <thead>\n",
       "    <tr style=\"text-align: right;\">\n",
       "      <th></th>\n",
       "      <th>id</th>\n",
       "      <th>address</th>\n",
       "      <th>description</th>\n",
       "      <th>featurecount</th>\n",
       "      <th>fee</th>\n",
       "      <th>longitude</th>\n",
       "      <th>latitude</th>\n",
       "      <th>lengthofvisit</th>\n",
       "      <th>museumname</th>\n",
       "      <th>phonenum</th>\n",
       "      <th>rank</th>\n",
       "      <th>rating</th>\n",
       "      <th>reviewcount</th>\n",
       "      <th>totalthingstodo</th>\n",
       "    </tr>\n",
       "  </thead>\n",
       "  <tbody>\n",
       "    <tr>\n",
       "      <th>0</th>\n",
       "      <td>2</td>\n",
       "      <td>Museumstraat 1, 1071 XX Amsterdam, The Netherl...</td>\n",
       "      <td>The Rijksmuseum is the museum of the Netherlan...</td>\n",
       "      <td>12</td>\n",
       "      <td>Yes</td>\n",
       "      <td>4.885185</td>\n",
       "      <td>52.360010</td>\n",
       "      <td>More than 3 hours</td>\n",
       "      <td>Rijksmuseum</td>\n",
       "      <td>+31 20 674 7000</td>\n",
       "      <td>1</td>\n",
       "      <td>4.5</td>\n",
       "      <td>25,042</td>\n",
       "      <td>451</td>\n",
       "    </tr>\n",
       "    <tr>\n",
       "      <th>1</th>\n",
       "      <td>6</td>\n",
       "      <td>Museumplein 6, 1071 DJ Amsterdam, The Netherlands</td>\n",
       "      <td>Discover the world's largest collection of wor...</td>\n",
       "      <td>12</td>\n",
       "      <td>Yes</td>\n",
       "      <td>4.881579</td>\n",
       "      <td>52.358433</td>\n",
       "      <td>1-2 hours</td>\n",
       "      <td>Van Gogh Museum</td>\n",
       "      <td>+31 20 570 5200</td>\n",
       "      <td>3</td>\n",
       "      <td>4.5</td>\n",
       "      <td>33,383</td>\n",
       "      <td>451</td>\n",
       "    </tr>\n",
       "    <tr>\n",
       "      <th>2</th>\n",
       "      <td>10</td>\n",
       "      <td>Barer Strasse 27 | Eingang Theresienstrae, 803...</td>\n",
       "      <td>Housing much of the city's most famous artwork...</td>\n",
       "      <td>4</td>\n",
       "      <td>Yes</td>\n",
       "      <td>11.569983</td>\n",
       "      <td>48.149520</td>\n",
       "      <td>More than 3 hours</td>\n",
       "      <td>Alte Pinakothek</td>\n",
       "      <td>+49 0 89 23805-216</td>\n",
       "      <td>16</td>\n",
       "      <td>4.5</td>\n",
       "      <td>1,715</td>\n",
       "      <td>293</td>\n",
       "    </tr>\n",
       "    <tr>\n",
       "      <th>3</th>\n",
       "      <td>14</td>\n",
       "      <td>Bygdoeynesveien 39, Oslo 0286, Norway</td>\n",
       "      <td>The Fram Museum is located at Bygdy, a short d...</td>\n",
       "      <td>2</td>\n",
       "      <td>NA</td>\n",
       "      <td>10.697917</td>\n",
       "      <td>59.902970</td>\n",
       "      <td>1-2 hours</td>\n",
       "      <td>Fram Polar Ship Museum</td>\n",
       "      <td>+47 23 28 29 50</td>\n",
       "      <td>3</td>\n",
       "      <td>4.5</td>\n",
       "      <td>3,332</td>\n",
       "      <td>386</td>\n",
       "    </tr>\n",
       "    <tr>\n",
       "      <th>4</th>\n",
       "      <td>18</td>\n",
       "      <td>Cromwell Road | South Kensington, London SW7 2...</td>\n",
       "      <td>The world's greatest museum of art and design....</td>\n",
       "      <td>9</td>\n",
       "      <td>No</td>\n",
       "      <td>-0.182833</td>\n",
       "      <td>51.495080</td>\n",
       "      <td>2-3 hours</td>\n",
       "      <td>V&amp;A - Victoria and Albert Museum</td>\n",
       "      <td>020 7942 2000</td>\n",
       "      <td>3</td>\n",
       "      <td>4.5</td>\n",
       "      <td>18,030</td>\n",
       "      <td>1,443</td>\n",
       "    </tr>\n",
       "  </tbody>\n",
       "</table>\n",
       "</div>"
      ],
      "text/plain": [
       "   id                                            address  \\\n",
       "0   2  Museumstraat 1, 1071 XX Amsterdam, The Netherl...   \n",
       "1   6  Museumplein 6, 1071 DJ Amsterdam, The Netherlands   \n",
       "2  10  Barer Strasse 27 | Eingang Theresienstrae, 803...   \n",
       "3  14              Bygdoeynesveien 39, Oslo 0286, Norway   \n",
       "4  18  Cromwell Road | South Kensington, London SW7 2...   \n",
       "\n",
       "                                         description featurecount  fee  \\\n",
       "0  The Rijksmuseum is the museum of the Netherlan...           12  Yes   \n",
       "1  Discover the world's largest collection of wor...           12  Yes   \n",
       "2  Housing much of the city's most famous artwork...            4  Yes   \n",
       "3  The Fram Museum is located at Bygdy, a short d...            2   NA   \n",
       "4  The world's greatest museum of art and design....            9   No   \n",
       "\n",
       "   longitude   latitude      lengthofvisit                        museumname  \\\n",
       "0   4.885185  52.360010  More than 3 hours                       Rijksmuseum   \n",
       "1   4.881579  52.358433          1-2 hours                   Van Gogh Museum   \n",
       "2  11.569983  48.149520  More than 3 hours                   Alte Pinakothek   \n",
       "3  10.697917  59.902970          1-2 hours            Fram Polar Ship Museum   \n",
       "4  -0.182833  51.495080          2-3 hours  V&A - Victoria and Albert Museum   \n",
       "\n",
       "             phonenum rank  rating reviewcount totalthingstodo  \n",
       "0     +31 20 674 7000    1     4.5      25,042             451  \n",
       "1     +31 20 570 5200    3     4.5      33,383             451  \n",
       "2  +49 0 89 23805-216   16     4.5       1,715             293  \n",
       "3     +47 23 28 29 50    3     4.5       3,332             386  \n",
       "4       020 7942 2000    3     4.5      18,030           1,443  "
      ]
     },
     "execution_count": 17,
     "metadata": {},
     "output_type": "execute_result"
    }
   ],
   "source": [
    "museos.limit(5).toPandas()"
   ]
  },
  {
   "cell_type": "code",
   "execution_count": 16,
   "metadata": {},
   "outputs": [
    {
     "name": "stdout",
     "output_type": "stream",
     "text": [
      "root\n",
      " |-- id: integer (nullable = true)\n",
      " |-- address: string (nullable = true)\n",
      " |-- description: string (nullable = true)\n",
      " |-- featurecount: string (nullable = true)\n",
      " |-- fee: string (nullable = true)\n",
      " |-- longitude: double (nullable = true)\n",
      " |-- latitude: double (nullable = true)\n",
      " |-- lengthofvisit: string (nullable = true)\n",
      " |-- museumname: string (nullable = true)\n",
      " |-- phonenum: string (nullable = true)\n",
      " |-- rank: string (nullable = true)\n",
      " |-- rating: double (nullable = true)\n",
      " |-- reviewcount: string (nullable = true)\n",
      " |-- totalthingstodo: string (nullable = true)\n",
      "\n"
     ]
    }
   ],
   "source": [
    "museos.printSchema()"
   ]
  },
  {
   "cell_type": "code",
   "execution_count": 131,
   "metadata": {},
   "outputs": [],
   "source": [
    "museos = (\n",
    "    museos\n",
    "    .select('id', 'longitude', 'latitude', 'rating')\n",
    ")"
   ]
  },
  {
   "cell_type": "code",
   "execution_count": 39,
   "metadata": {},
   "outputs": [
    {
     "name": "stdout",
     "output_type": "stream",
     "text": [
      "root\n",
      " |-- id: integer (nullable = true)\n",
      " |-- longitude: double (nullable = true)\n",
      " |-- latitude: double (nullable = true)\n",
      " |-- rating: double (nullable = true)\n",
      "\n"
     ]
    }
   ],
   "source": [
    "museos.printSchema()"
   ]
  },
  {
   "cell_type": "code",
   "execution_count": 29,
   "metadata": {},
   "outputs": [
    {
     "data": {
      "text/html": [
       "<div>\n",
       "<style scoped>\n",
       "    .dataframe tbody tr th:only-of-type {\n",
       "        vertical-align: middle;\n",
       "    }\n",
       "\n",
       "    .dataframe tbody tr th {\n",
       "        vertical-align: top;\n",
       "    }\n",
       "\n",
       "    .dataframe thead th {\n",
       "        text-align: right;\n",
       "    }\n",
       "</style>\n",
       "<table border=\"1\" class=\"dataframe\">\n",
       "  <thead>\n",
       "    <tr style=\"text-align: right;\">\n",
       "      <th></th>\n",
       "      <th>id</th>\n",
       "      <th>longitude</th>\n",
       "      <th>latitude</th>\n",
       "      <th>rating</th>\n",
       "    </tr>\n",
       "  </thead>\n",
       "  <tbody>\n",
       "    <tr>\n",
       "      <th>0</th>\n",
       "      <td>2</td>\n",
       "      <td>4.885185</td>\n",
       "      <td>52.360010</td>\n",
       "      <td>4.5</td>\n",
       "    </tr>\n",
       "    <tr>\n",
       "      <th>1</th>\n",
       "      <td>6</td>\n",
       "      <td>4.881579</td>\n",
       "      <td>52.358433</td>\n",
       "      <td>4.5</td>\n",
       "    </tr>\n",
       "    <tr>\n",
       "      <th>2</th>\n",
       "      <td>10</td>\n",
       "      <td>11.569983</td>\n",
       "      <td>48.149520</td>\n",
       "      <td>4.5</td>\n",
       "    </tr>\n",
       "    <tr>\n",
       "      <th>3</th>\n",
       "      <td>14</td>\n",
       "      <td>10.697917</td>\n",
       "      <td>59.902970</td>\n",
       "      <td>4.5</td>\n",
       "    </tr>\n",
       "    <tr>\n",
       "      <th>4</th>\n",
       "      <td>18</td>\n",
       "      <td>-0.182833</td>\n",
       "      <td>51.495080</td>\n",
       "      <td>4.5</td>\n",
       "    </tr>\n",
       "  </tbody>\n",
       "</table>\n",
       "</div>"
      ],
      "text/plain": [
       "   id  longitude   latitude  rating\n",
       "0   2   4.885185  52.360010     4.5\n",
       "1   6   4.881579  52.358433     4.5\n",
       "2  10  11.569983  48.149520     4.5\n",
       "3  14  10.697917  59.902970     4.5\n",
       "4  18  -0.182833  51.495080     4.5"
      ]
     },
     "execution_count": 29,
     "metadata": {},
     "output_type": "execute_result"
    }
   ],
   "source": [
    "museos.limit(5).toPandas()"
   ]
  },
  {
   "cell_type": "code",
   "execution_count": 40,
   "metadata": {},
   "outputs": [
    {
     "data": {
      "text/plain": [
       "1013"
      ]
     },
     "execution_count": 40,
     "metadata": {},
     "output_type": "execute_result"
    }
   ],
   "source": [
    "museos.count()"
   ]
  },
  {
   "cell_type": "code",
   "execution_count": 132,
   "metadata": {},
   "outputs": [],
   "source": [
    "museos = (\n",
    "    museos\n",
    "    .filter(\"id is not null or id !=''\")\n",
    "    .filter(\"longitude is not null or longitude !=''\")\n",
    "    .filter(\"latitude is not null or latitude !=''\")\n",
    "    .filter(\"rating is not null or rating !=''\")\n",
    ")"
   ]
  },
  {
   "cell_type": "code",
   "execution_count": 86,
   "metadata": {},
   "outputs": [
    {
     "data": {
      "text/plain": [
       "972"
      ]
     },
     "execution_count": 86,
     "metadata": {},
     "output_type": "execute_result"
    }
   ],
   "source": [
    "museos.count()"
   ]
  },
  {
   "cell_type": "code",
   "execution_count": 43,
   "metadata": {},
   "outputs": [
    {
     "data": {
      "text/html": [
       "<div>\n",
       "<style scoped>\n",
       "    .dataframe tbody tr th:only-of-type {\n",
       "        vertical-align: middle;\n",
       "    }\n",
       "\n",
       "    .dataframe tbody tr th {\n",
       "        vertical-align: top;\n",
       "    }\n",
       "\n",
       "    .dataframe thead th {\n",
       "        text-align: right;\n",
       "    }\n",
       "</style>\n",
       "<table border=\"1\" class=\"dataframe\">\n",
       "  <thead>\n",
       "    <tr style=\"text-align: right;\">\n",
       "      <th></th>\n",
       "      <th>id</th>\n",
       "      <th>longitude</th>\n",
       "      <th>latitude</th>\n",
       "      <th>rating</th>\n",
       "    </tr>\n",
       "  </thead>\n",
       "  <tbody>\n",
       "    <tr>\n",
       "      <th>0</th>\n",
       "      <td>2</td>\n",
       "      <td>4.885185</td>\n",
       "      <td>52.360010</td>\n",
       "      <td>4.5</td>\n",
       "    </tr>\n",
       "    <tr>\n",
       "      <th>1</th>\n",
       "      <td>6</td>\n",
       "      <td>4.881579</td>\n",
       "      <td>52.358433</td>\n",
       "      <td>4.5</td>\n",
       "    </tr>\n",
       "    <tr>\n",
       "      <th>2</th>\n",
       "      <td>10</td>\n",
       "      <td>11.569983</td>\n",
       "      <td>48.149520</td>\n",
       "      <td>4.5</td>\n",
       "    </tr>\n",
       "    <tr>\n",
       "      <th>3</th>\n",
       "      <td>14</td>\n",
       "      <td>10.697917</td>\n",
       "      <td>59.902970</td>\n",
       "      <td>4.5</td>\n",
       "    </tr>\n",
       "    <tr>\n",
       "      <th>4</th>\n",
       "      <td>18</td>\n",
       "      <td>-0.182833</td>\n",
       "      <td>51.495080</td>\n",
       "      <td>4.5</td>\n",
       "    </tr>\n",
       "  </tbody>\n",
       "</table>\n",
       "</div>"
      ],
      "text/plain": [
       "   id  longitude   latitude  rating\n",
       "0   2   4.885185  52.360010     4.5\n",
       "1   6   4.881579  52.358433     4.5\n",
       "2  10  11.569983  48.149520     4.5\n",
       "3  14  10.697917  59.902970     4.5\n",
       "4  18  -0.182833  51.495080     4.5"
      ]
     },
     "execution_count": 43,
     "metadata": {},
     "output_type": "execute_result"
    }
   ],
   "source": [
    "museos.limit(5).toPandas()"
   ]
  },
  {
   "cell_type": "code",
   "execution_count": 52,
   "metadata": {},
   "outputs": [
    {
     "name": "stdout",
     "output_type": "stream",
     "text": [
      "+-------------+-------------+-----------------+\n",
      "|Minimo Rating|Maximo Rating|     Rating Medio|\n",
      "+-------------+-------------+-----------------+\n",
      "|          2.5|          5.0|4.440843621399177|\n",
      "+-------------+-------------+-----------------+\n",
      "\n"
     ]
    }
   ],
   "source": [
    "museos_analisis = (\n",
    "    museos\n",
    "    .agg(\n",
    "        F.min('rating').alias(\"Minimo Rating\"),\n",
    "        F.max('rating').alias(\"Maximo Rating\"),\n",
    "        F.mean('rating').alias(\"Rating Medio\"))\n",
    "\n",
    ").show()"
   ]
  },
  {
   "cell_type": "code",
   "execution_count": 133,
   "metadata": {},
   "outputs": [],
   "source": [
    "localizaciones = (\n",
    "    \n",
    "    spark.read\n",
    "    .options(header=True, inferSchema=True, sep = \",\") ##INFERIR ESQEUMA\n",
    "    .csv('/datos/datasets_examen_1920/localizaciones.csv')\n",
    ").cache()"
   ]
  },
  {
   "cell_type": "code",
   "execution_count": 54,
   "metadata": {},
   "outputs": [
    {
     "data": {
      "text/html": [
       "<div>\n",
       "<style scoped>\n",
       "    .dataframe tbody tr th:only-of-type {\n",
       "        vertical-align: middle;\n",
       "    }\n",
       "\n",
       "    .dataframe tbody tr th {\n",
       "        vertical-align: top;\n",
       "    }\n",
       "\n",
       "    .dataframe thead th {\n",
       "        text-align: right;\n",
       "    }\n",
       "</style>\n",
       "<table border=\"1\" class=\"dataframe\">\n",
       "  <thead>\n",
       "    <tr style=\"text-align: right;\">\n",
       "      <th></th>\n",
       "      <th>id</th>\n",
       "      <th>housenumber</th>\n",
       "      <th>street</th>\n",
       "      <th>city</th>\n",
       "      <th>state</th>\n",
       "      <th>zip</th>\n",
       "      <th>country</th>\n",
       "    </tr>\n",
       "  </thead>\n",
       "  <tbody>\n",
       "    <tr>\n",
       "      <th>0</th>\n",
       "      <td>26</td>\n",
       "      <td>House Number Not Found</td>\n",
       "      <td>Street Not Found</td>\n",
       "      <td>None</td>\n",
       "      <td>Washington, D.C.</td>\n",
       "      <td>20224</td>\n",
       "      <td>United States of America</td>\n",
       "    </tr>\n",
       "    <tr>\n",
       "      <th>1</th>\n",
       "      <td>150</td>\n",
       "      <td>555</td>\n",
       "      <td>Pennsylvania Avenue Northwest</td>\n",
       "      <td>None</td>\n",
       "      <td>Washington, D.C.</td>\n",
       "      <td>20001</td>\n",
       "      <td>United States of America</td>\n",
       "    </tr>\n",
       "    <tr>\n",
       "      <th>2</th>\n",
       "      <td>202</td>\n",
       "      <td>1391</td>\n",
       "      <td>D Street Northeast</td>\n",
       "      <td>None</td>\n",
       "      <td>Washington, D.C.</td>\n",
       "      <td>20002</td>\n",
       "      <td>United States of America</td>\n",
       "    </tr>\n",
       "    <tr>\n",
       "      <th>3</th>\n",
       "      <td>714</td>\n",
       "      <td>555</td>\n",
       "      <td>Pennsylvania Avenue Northwest</td>\n",
       "      <td>None</td>\n",
       "      <td>Washington, D.C.</td>\n",
       "      <td>20001</td>\n",
       "      <td>United States of America</td>\n",
       "    </tr>\n",
       "    <tr>\n",
       "      <th>4</th>\n",
       "      <td>742</td>\n",
       "      <td>House Number Not Found</td>\n",
       "      <td>Street Not Found</td>\n",
       "      <td>None</td>\n",
       "      <td>Washington, D.C.</td>\n",
       "      <td>20546</td>\n",
       "      <td>United States of America</td>\n",
       "    </tr>\n",
       "  </tbody>\n",
       "</table>\n",
       "</div>"
      ],
      "text/plain": [
       "    id             housenumber                         street  city  \\\n",
       "0   26  House Number Not Found               Street Not Found  None   \n",
       "1  150                     555  Pennsylvania Avenue Northwest  None   \n",
       "2  202                    1391             D Street Northeast  None   \n",
       "3  714                     555  Pennsylvania Avenue Northwest  None   \n",
       "4  742  House Number Not Found               Street Not Found  None   \n",
       "\n",
       "              state    zip                   country  \n",
       "0  Washington, D.C.  20224  United States of America  \n",
       "1  Washington, D.C.  20001  United States of America  \n",
       "2  Washington, D.C.  20002  United States of America  \n",
       "3  Washington, D.C.  20001  United States of America  \n",
       "4  Washington, D.C.  20546  United States of America  "
      ]
     },
     "execution_count": 54,
     "metadata": {},
     "output_type": "execute_result"
    }
   ],
   "source": [
    "localizaciones.limit(5).toPandas()"
   ]
  },
  {
   "cell_type": "code",
   "execution_count": 55,
   "metadata": {},
   "outputs": [
    {
     "name": "stdout",
     "output_type": "stream",
     "text": [
      "root\n",
      " |-- id: integer (nullable = true)\n",
      " |-- housenumber: string (nullable = true)\n",
      " |-- street: string (nullable = true)\n",
      " |-- city: string (nullable = true)\n",
      " |-- state: string (nullable = true)\n",
      " |-- zip: string (nullable = true)\n",
      " |-- country: string (nullable = true)\n",
      "\n"
     ]
    }
   ],
   "source": [
    "localizaciones.printSchema()"
   ]
  },
  {
   "cell_type": "code",
   "execution_count": 58,
   "metadata": {},
   "outputs": [],
   "source": [
    "count_esp = localizaciones.filter(\"country='Spain'\").count()"
   ]
  },
  {
   "cell_type": "code",
   "execution_count": 59,
   "metadata": {},
   "outputs": [
    {
     "name": "stdout",
     "output_type": "stream",
     "text": [
      "Localizaciones con el pais Espana :30\n"
     ]
    }
   ],
   "source": [
    "print(\"Localizaciones con el pais Espana :{}\".format(count_esp))"
   ]
  },
  {
   "cell_type": "code",
   "execution_count": 134,
   "metadata": {},
   "outputs": [],
   "source": [
    "localizaciones_join = localizaciones.select(\"id\",\"city\", \"country\")"
   ]
  },
  {
   "cell_type": "code",
   "execution_count": 135,
   "metadata": {},
   "outputs": [],
   "source": [
    "museos = (\n",
    "    museos\n",
    "    .join(localizaciones_join, \"id\", 'left') #para manetener todo los museos\n",
    ")"
   ]
  },
  {
   "cell_type": "code",
   "execution_count": 136,
   "metadata": {
    "scrolled": true
   },
   "outputs": [
    {
     "data": {
      "text/html": [
       "<div>\n",
       "<style scoped>\n",
       "    .dataframe tbody tr th:only-of-type {\n",
       "        vertical-align: middle;\n",
       "    }\n",
       "\n",
       "    .dataframe tbody tr th {\n",
       "        vertical-align: top;\n",
       "    }\n",
       "\n",
       "    .dataframe thead th {\n",
       "        text-align: right;\n",
       "    }\n",
       "</style>\n",
       "<table border=\"1\" class=\"dataframe\">\n",
       "  <thead>\n",
       "    <tr style=\"text-align: right;\">\n",
       "      <th></th>\n",
       "      <th>id</th>\n",
       "      <th>longitude</th>\n",
       "      <th>latitude</th>\n",
       "      <th>rating</th>\n",
       "      <th>city</th>\n",
       "      <th>country</th>\n",
       "    </tr>\n",
       "  </thead>\n",
       "  <tbody>\n",
       "    <tr>\n",
       "      <th>0</th>\n",
       "      <td>2</td>\n",
       "      <td>4.885185</td>\n",
       "      <td>52.360010</td>\n",
       "      <td>4.5</td>\n",
       "      <td>Amsterdam</td>\n",
       "      <td>The Netherlands</td>\n",
       "    </tr>\n",
       "    <tr>\n",
       "      <th>1</th>\n",
       "      <td>6</td>\n",
       "      <td>4.881579</td>\n",
       "      <td>52.358433</td>\n",
       "      <td>4.5</td>\n",
       "      <td>Amsterdam</td>\n",
       "      <td>The Netherlands</td>\n",
       "    </tr>\n",
       "    <tr>\n",
       "      <th>2</th>\n",
       "      <td>10</td>\n",
       "      <td>11.569983</td>\n",
       "      <td>48.149520</td>\n",
       "      <td>4.5</td>\n",
       "      <td>Munich</td>\n",
       "      <td>Germany</td>\n",
       "    </tr>\n",
       "    <tr>\n",
       "      <th>3</th>\n",
       "      <td>14</td>\n",
       "      <td>10.697917</td>\n",
       "      <td>59.902970</td>\n",
       "      <td>4.5</td>\n",
       "      <td>Oslo</td>\n",
       "      <td>Norway</td>\n",
       "    </tr>\n",
       "    <tr>\n",
       "      <th>4</th>\n",
       "      <td>18</td>\n",
       "      <td>-0.182833</td>\n",
       "      <td>51.495080</td>\n",
       "      <td>4.5</td>\n",
       "      <td>London</td>\n",
       "      <td>United Kingdom</td>\n",
       "    </tr>\n",
       "  </tbody>\n",
       "</table>\n",
       "</div>"
      ],
      "text/plain": [
       "   id  longitude   latitude  rating       city          country\n",
       "0   2   4.885185  52.360010     4.5  Amsterdam  The Netherlands\n",
       "1   6   4.881579  52.358433     4.5  Amsterdam  The Netherlands\n",
       "2  10  11.569983  48.149520     4.5     Munich          Germany\n",
       "3  14  10.697917  59.902970     4.5       Oslo           Norway\n",
       "4  18  -0.182833  51.495080     4.5     London   United Kingdom"
      ]
     },
     "execution_count": 136,
     "metadata": {},
     "output_type": "execute_result"
    }
   ],
   "source": [
    "museos.limit(5).toPandas()"
   ]
  },
  {
   "cell_type": "code",
   "execution_count": 137,
   "metadata": {},
   "outputs": [
    {
     "data": {
      "text/plain": [
       "972"
      ]
     },
     "execution_count": 137,
     "metadata": {},
     "output_type": "execute_result"
    }
   ],
   "source": [
    "museos.count()"
   ]
  },
  {
   "cell_type": "code",
   "execution_count": 99,
   "metadata": {},
   "outputs": [],
   "source": [
    "mas_museos = (\n",
    "    museos\n",
    "    .filter(\"city!='None'\") #eliminamos aquellos registros que no tengan datos de ciudad\n",
    "    .groupBy(\"city\")\n",
    "    .count()\n",
    "    .orderBy(F.desc('count'))\n",
    "    .first()\n",
    ")"
   ]
  },
  {
   "cell_type": "code",
   "execution_count": 138,
   "metadata": {},
   "outputs": [
    {
     "name": "stdout",
     "output_type": "stream",
     "text": [
      "La ciudad con mas museos es New York con 29 museos\n"
     ]
    }
   ],
   "source": [
    "print(\"La ciudad con mas museos es {} con {} museos\". format(mas_museos[0], mas_museos[1]))"
   ]
  },
  {
   "cell_type": "code",
   "execution_count": 140,
   "metadata": {},
   "outputs": [],
   "source": [
    "mejor_ratings = (\n",
    "    museos\n",
    "    .filter(\"country!='None'\") #eliminamos aquellos registros que no tengan datos de ciudad\n",
    "    .groupBy(\"country\")\n",
    "    .agg(F.mean(\"rating\").alias(\"Ranking Medio\"))\n",
    "    .orderBy(F.desc(\"Ranking Medio\"))\n",
    ")"
   ]
  },
  {
   "cell_type": "code",
   "execution_count": 143,
   "metadata": {},
   "outputs": [
    {
     "name": "stdout",
     "output_type": "stream",
     "text": [
      "Los cinco paises con mejor rating medio son: \n"
     ]
    }
   ],
   "source": [
    "print(\"Los cinco paises con mejor rating medio son: \")"
   ]
  },
  {
   "cell_type": "code",
   "execution_count": 142,
   "metadata": {},
   "outputs": [
    {
     "data": {
      "text/html": [
       "<div>\n",
       "<style scoped>\n",
       "    .dataframe tbody tr th:only-of-type {\n",
       "        vertical-align: middle;\n",
       "    }\n",
       "\n",
       "    .dataframe tbody tr th {\n",
       "        vertical-align: top;\n",
       "    }\n",
       "\n",
       "    .dataframe thead th {\n",
       "        text-align: right;\n",
       "    }\n",
       "</style>\n",
       "<table border=\"1\" class=\"dataframe\">\n",
       "  <thead>\n",
       "    <tr style=\"text-align: right;\">\n",
       "      <th></th>\n",
       "      <th>country</th>\n",
       "      <th>Ranking Medio</th>\n",
       "    </tr>\n",
       "  </thead>\n",
       "  <tbody>\n",
       "    <tr>\n",
       "      <th>0</th>\n",
       "      <td>Israel</td>\n",
       "      <td>4.625000</td>\n",
       "    </tr>\n",
       "    <tr>\n",
       "      <th>1</th>\n",
       "      <td>Mexico</td>\n",
       "      <td>4.600000</td>\n",
       "    </tr>\n",
       "    <tr>\n",
       "      <th>2</th>\n",
       "      <td>Turkey</td>\n",
       "      <td>4.555556</td>\n",
       "    </tr>\n",
       "    <tr>\n",
       "      <th>3</th>\n",
       "      <td>United States of America</td>\n",
       "      <td>4.531532</td>\n",
       "    </tr>\n",
       "    <tr>\n",
       "      <th>4</th>\n",
       "      <td>Morocco</td>\n",
       "      <td>4.500000</td>\n",
       "    </tr>\n",
       "  </tbody>\n",
       "</table>\n",
       "</div>"
      ],
      "text/plain": [
       "                    country  Ranking Medio\n",
       "0                    Israel       4.625000\n",
       "1                    Mexico       4.600000\n",
       "2                    Turkey       4.555556\n",
       "3  United States of America       4.531532\n",
       "4                   Morocco       4.500000"
      ]
     },
     "execution_count": 142,
     "metadata": {},
     "output_type": "execute_result"
    }
   ],
   "source": [
    "mejor_ratings.limit(5).toPandas()"
   ]
  },
  {
   "cell_type": "code",
   "execution_count": null,
   "metadata": {},
   "outputs": [],
   "source": []
  },
  {
   "cell_type": "code",
   "execution_count": null,
   "metadata": {},
   "outputs": [],
   "source": []
  },
  {
   "cell_type": "code",
   "execution_count": null,
   "metadata": {},
   "outputs": [],
   "source": []
  },
  {
   "cell_type": "code",
   "execution_count": 126,
   "metadata": {},
   "outputs": [],
   "source": [
    "spark.stop()"
   ]
  },
  {
   "cell_type": "code",
   "execution_count": null,
   "metadata": {},
   "outputs": [],
   "source": []
  },
  {
   "cell_type": "code",
   "execution_count": null,
   "metadata": {},
   "outputs": [],
   "source": []
  },
  {
   "cell_type": "code",
   "execution_count": null,
   "metadata": {},
   "outputs": [],
   "source": []
  }
 ],
 "metadata": {
  "kernelspec": {
   "display_name": "Anaconda3",
   "language": "python",
   "name": "anaconda3"
  },
  "language_info": {
   "codemirror_mode": {
    "name": "ipython",
    "version": 3
   },
   "file_extension": ".py",
   "mimetype": "text/x-python",
   "name": "python",
   "nbconvert_exporter": "python",
   "pygments_lexer": "ipython3",
   "version": "3.7.3"
  }
 },
 "nbformat": 4,
 "nbformat_minor": 2
}

{
 "cells": [
  {
   "cell_type": "markdown",
   "metadata": {},
   "source": [
    "# EJERCICIOS SPARK, Ejercicio 1 - Julia Hernández Elena"
   ]
  },
  {
   "cell_type": "code",
   "execution_count": 2,
   "metadata": {},
   "outputs": [],
   "source": [
    "import os\n",
    "import pandas as pd\n",
    "\n",
    "from pyspark import SparkConf\n",
    "from pyspark.sql import SparkSession\n",
    "from pyspark.sql import Row\n"
   ]
  },
  {
   "cell_type": "code",
   "execution_count": 3,
   "metadata": {},
   "outputs": [],
   "source": [
    "conf = (\n",
    "\n",
    "    SparkConf()\n",
    "    .setAppName(u\"[ICAI] Ejercicios Spark\")\n",
    "    .set(\"spark.executor.memory\", \"7g\")\n",
    "    .set(\"spark.executor.cores\", \"5\")\n",
    "    .set(\"spark.default.parallelism\", 600)\n",
    "    .set(\"spark.sql.shuffle.partitions\", 600) \n",
    "    .set(\"spark.dynamicAllocation.maxExecutors\", 2) \n",
    ")"
   ]
  },
  {
   "cell_type": "code",
   "execution_count": 4,
   "metadata": {},
   "outputs": [],
   "source": [
    "spark = (\n",
    "\n",
    "    SparkSession.builder\n",
    "    .config(conf=conf)\n",
    "    .enableHiveSupport()\n",
    "    .getOrCreate()\n",
    "\n",
    ")"
   ]
  },
  {
   "cell_type": "markdown",
   "metadata": {},
   "source": [
    "# EJERCICIO 1"
   ]
  },
  {
   "cell_type": "code",
   "execution_count": 4,
   "metadata": {},
   "outputs": [
    {
     "name": "stdout",
     "output_type": "stream",
     "text": [
      "Found 108 items\r\n",
      "-rw-r--r--   3 jayuso supergroup       1948 2017-12-03 18:11 /datos/files_bolsa/file_1.csv\r\n",
      "-rw-r--r--   3 jayuso supergroup       1954 2017-12-03 18:11 /datos/files_bolsa/file_10.csv\r\n",
      "-rw-r--r--   3 jayuso supergroup       1904 2017-12-03 18:11 /datos/files_bolsa/file_100.csv\r\n",
      "-rw-r--r--   3 jayuso supergroup       1940 2017-12-03 18:11 /datos/files_bolsa/file_101.csv\r\n",
      "-rw-r--r--   3 jayuso supergroup       1941 2017-12-03 18:11 /datos/files_bolsa/file_102.csv\r\n",
      "-rw-r--r--   3 jayuso supergroup       1915 2017-12-03 18:11 /datos/files_bolsa/file_103.csv\r\n",
      "-rw-r--r--   3 jayuso supergroup       1941 2017-12-03 18:11 /datos/files_bolsa/file_104.csv\r\n",
      "-rw-r--r--   3 jayuso supergroup       1933 2017-12-03 18:11 /datos/files_bolsa/file_105.csv\r\n",
      "-rw-r--r--   3 jayuso supergroup       1937 2017-12-03 18:11 /datos/files_bolsa/file_106.csv\r\n"
     ]
    }
   ],
   "source": [
    "!hadoop fs -ls /datos/files_bolsa | head"
   ]
  },
  {
   "cell_type": "markdown",
   "metadata": {},
   "source": [
    "### 1. Leer todos los ficheros como texto plano en un RDD."
   ]
  },
  {
   "cell_type": "code",
   "execution_count": 5,
   "metadata": {},
   "outputs": [],
   "source": [
    "bolsa = spark.sparkContext.textFile(\"/datos/files_bolsa\").cache()\n",
    "#aunque en el hdfs tenemos muchos ficheros podemos poner la carpeta\n",
    "#lo guardamos en cache porque lo vamos a usar mucho"
   ]
  },
  {
   "cell_type": "code",
   "execution_count": 7,
   "metadata": {},
   "outputs": [
    {
     "data": {
      "text/plain": [
       "3327"
      ]
     },
     "execution_count": 7,
     "metadata": {},
     "output_type": "execute_result"
    }
   ],
   "source": [
    "bolsa.count() #comprobamos que hemos leido todo"
   ]
  },
  {
   "cell_type": "code",
   "execution_count": 8,
   "metadata": {},
   "outputs": [
    {
     "data": {
      "text/plain": [
       "['Open,High,Low,Close,Volume,Adjusted,date',\n",
       " '263.824,264.51,260.26,263.478485,6611700,263.478485,2010-02-25',\n",
       " '226.226,231.321,225.841,230.43544,7989800,230.43544,2009-08-20',\n",
       " '287.883,291.517,286.286,291.371368,3628700,291.371368,2011-03-23',\n",
       " '199.284,201.401,197.593,201.191193,6399500,201.191193,2009-05-04',\n",
       " '297.432,301.802,292.107,300.885895,7643700,300.885895,2011-08-03',\n",
       " '212.447,212.452,205.045,207.287292,12441100,207.287292,2008-09-10',\n",
       " '357.853,359.359,355.606,357.792786,7696400,357.792786,2007-12-07',\n",
       " '297.843,300.145,296.131,296.616608,5110400,296.616608,2011-10-31',\n",
       " '924.15,935.82,920.8,932.820007,2327800,932.820007,2017-05-01']"
      ]
     },
     "execution_count": 8,
     "metadata": {},
     "output_type": "execute_result"
    }
   ],
   "source": [
    "bolsa.take(10)"
   ]
  },
  {
   "cell_type": "markdown",
   "metadata": {},
   "source": [
    "### 2. La primera línea de cada fichero es la cabecera y es siempre de la siguiente forma:\n",
    "\n",
    "##### cabecera = 'Open,High,Low,Close,Volume,Adjusted,date'\n",
    "### - Generar otro RDD con el resto de las filas (sin las cabeceras).\n",
    "### - Generar un nuevo RDD solo con las caberas y contar cuantas son."
   ]
  },
  {
   "cell_type": "code",
   "execution_count": 6,
   "metadata": {},
   "outputs": [],
   "source": [
    "cabecera = 'Open,High,Low,Close,Volume,Adjusted,date'"
   ]
  },
  {
   "cell_type": "code",
   "execution_count": 7,
   "metadata": {},
   "outputs": [],
   "source": [
    "filtrado_cabecera = (\n",
    "    bolsa\n",
    "    .filter(lambda x: cabecera in x)\n",
    ")"
   ]
  },
  {
   "cell_type": "code",
   "execution_count": 8,
   "metadata": {},
   "outputs": [
    {
     "data": {
      "text/plain": [
       "['Open,High,Low,Close,Volume,Adjusted,date',\n",
       " 'Open,High,Low,Close,Volume,Adjusted,date',\n",
       " 'Open,High,Low,Close,Volume,Adjusted,date',\n",
       " 'Open,High,Low,Close,Volume,Adjusted,date',\n",
       " 'Open,High,Low,Close,Volume,Adjusted,date',\n",
       " 'Open,High,Low,Close,Volume,Adjusted,date',\n",
       " 'Open,High,Low,Close,Volume,Adjusted,date',\n",
       " 'Open,High,Low,Close,Volume,Adjusted,date',\n",
       " 'Open,High,Low,Close,Volume,Adjusted,date',\n",
       " 'Open,High,Low,Close,Volume,Adjusted,date']"
      ]
     },
     "execution_count": 8,
     "metadata": {},
     "output_type": "execute_result"
    }
   ],
   "source": [
    "filtrado_cabecera.take(10)"
   ]
  },
  {
   "cell_type": "code",
   "execution_count": 9,
   "metadata": {},
   "outputs": [
    {
     "data": {
      "text/plain": [
       "108"
      ]
     },
     "execution_count": 9,
     "metadata": {},
     "output_type": "execute_result"
    }
   ],
   "source": [
    "filtrado_cabecera.count() #hay 108 como 108 archivos"
   ]
  },
  {
   "cell_type": "code",
   "execution_count": 10,
   "metadata": {},
   "outputs": [],
   "source": [
    "filtrado = (\n",
    "    bolsa\n",
    "    .filter(lambda x: cabecera not in x)\n",
    ")"
   ]
  },
  {
   "cell_type": "code",
   "execution_count": 18,
   "metadata": {},
   "outputs": [
    {
     "data": {
      "text/plain": [
       "['263.824,264.51,260.26,263.478485,6611700,263.478485,2010-02-25',\n",
       " '226.226,231.321,225.841,230.43544,7989800,230.43544,2009-08-20',\n",
       " '287.883,291.517,286.286,291.371368,3628700,291.371368,2011-03-23',\n",
       " '199.284,201.401,197.593,201.191193,6399500,201.191193,2009-05-04',\n",
       " '297.432,301.802,292.107,300.885895,7643700,300.885895,2011-08-03',\n",
       " '212.447,212.452,205.045,207.287292,12441100,207.287292,2008-09-10',\n",
       " '357.853,359.359,355.606,357.792786,7696400,357.792786,2007-12-07',\n",
       " '297.843,300.145,296.131,296.616608,5110400,296.616608,2011-10-31',\n",
       " '924.15,935.82,920.8,932.820007,2327800,932.820007,2017-05-01',\n",
       " '523.76,525.37,515.4,515.840027,2617600,515.840027,2014-12-15']"
      ]
     },
     "execution_count": 18,
     "metadata": {},
     "output_type": "execute_result"
    }
   ],
   "source": [
    "filtrado.take(10)"
   ]
  },
  {
   "cell_type": "code",
   "execution_count": 19,
   "metadata": {},
   "outputs": [
    {
     "data": {
      "text/plain": [
       "3219"
      ]
     },
     "execution_count": 19,
     "metadata": {},
     "output_type": "execute_result"
    }
   ],
   "source": [
    "filtrado.count()"
   ]
  },
  {
   "cell_type": "code",
   "execution_count": 23,
   "metadata": {},
   "outputs": [
    {
     "data": {
      "text/plain": [
       "pyspark.rdd.PipelinedRDD"
      ]
     },
     "execution_count": 23,
     "metadata": {},
     "output_type": "execute_result"
    }
   ],
   "source": [
    "type(filtrado)"
   ]
  },
  {
   "cell_type": "markdown",
   "metadata": {},
   "source": [
    "### 3. Con el RDD sin cabeceras, crear un Pair RDD, donde la key sea el año (de la fecha del último cambio) y el valor toda la fila"
   ]
  },
  {
   "cell_type": "code",
   "execution_count": 11,
   "metadata": {},
   "outputs": [],
   "source": [
    "pairRDD = (\n",
    "    filtrado\n",
    "    .map(lambda x: (x.split(',')[-1].split('-')[0], x))\n",
    "    \n",
    ")"
   ]
  },
  {
   "cell_type": "code",
   "execution_count": 27,
   "metadata": {},
   "outputs": [
    {
     "data": {
      "text/plain": [
       "[('2010', '263.824,264.51,260.26,263.478485,6611700,263.478485,2010-02-25'),\n",
       " ('2009', '226.226,231.321,225.841,230.43544,7989800,230.43544,2009-08-20'),\n",
       " ('2011', '287.883,291.517,286.286,291.371368,3628700,291.371368,2011-03-23'),\n",
       " ('2009', '199.284,201.401,197.593,201.191193,6399500,201.191193,2009-05-04'),\n",
       " ('2011', '297.432,301.802,292.107,300.885895,7643700,300.885895,2011-08-03'),\n",
       " ('2008', '212.447,212.452,205.045,207.287292,12441100,207.287292,2008-09-10'),\n",
       " ('2007', '357.853,359.359,355.606,357.792786,7696400,357.792786,2007-12-07'),\n",
       " ('2011', '297.843,300.145,296.131,296.616608,5110400,296.616608,2011-10-31'),\n",
       " ('2017', '924.15,935.82,920.8,932.820007,2327800,932.820007,2017-05-01'),\n",
       " ('2014', '523.76,525.37,515.4,515.840027,2617600,515.840027,2014-12-15')]"
      ]
     },
     "execution_count": 27,
     "metadata": {},
     "output_type": "execute_result"
    }
   ],
   "source": [
    "pairRDD.take(10)"
   ]
  },
  {
   "cell_type": "markdown",
   "metadata": {},
   "source": [
    "### 4. Contar para cada key (cada año) cuantos registros hay en el RDD"
   ]
  },
  {
   "cell_type": "code",
   "execution_count": 12,
   "metadata": {},
   "outputs": [],
   "source": [
    "registros= (\n",
    "    pairRDD\n",
    "    .map(lambda x: (x[0],1))\n",
    "    .reduceByKey(lambda a, b: a + b)\n",
    ").collect()"
   ]
  },
  {
   "cell_type": "code",
   "execution_count": 13,
   "metadata": {
    "scrolled": true
   },
   "outputs": [
    {
     "data": {
      "text/plain": [
       "[('2008', 253),\n",
       " ('2009', 252),\n",
       " ('2010', 252),\n",
       " ('2016', 252),\n",
       " ('2013', 252),\n",
       " ('2006', 251),\n",
       " ('2017', 198),\n",
       " ('2012', 250),\n",
       " ('2015', 252),\n",
       " ('2007', 251),\n",
       " ('2014', 252),\n",
       " ('2011', 252),\n",
       " ('2005', 252)]"
      ]
     },
     "execution_count": 13,
     "metadata": {},
     "output_type": "execute_result"
    }
   ],
   "source": [
    "registros"
   ]
  },
  {
   "cell_type": "code",
   "execution_count": 15,
   "metadata": {},
   "outputs": [],
   "source": [
    "spark.stop()"
   ]
  },
  {
   "cell_type": "code",
   "execution_count": null,
   "metadata": {},
   "outputs": [],
   "source": []
  }
 ],
 "metadata": {
  "kernelspec": {
   "display_name": "Anaconda3",
   "language": "python",
   "name": "anaconda3"
  },
  "language_info": {
   "codemirror_mode": {
    "name": "ipython",
    "version": 3
   },
   "file_extension": ".py",
   "mimetype": "text/x-python",
   "name": "python",
   "nbconvert_exporter": "python",
   "pygments_lexer": "ipython3",
   "version": "3.7.3"
  }
 },
 "nbformat": 4,
 "nbformat_minor": 2
}

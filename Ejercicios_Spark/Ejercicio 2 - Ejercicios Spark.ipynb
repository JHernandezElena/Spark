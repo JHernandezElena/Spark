{
 "cells": [
  {
   "cell_type": "markdown",
   "metadata": {},
   "source": [
    "# EJERCICIOS SPARK, Ejercicio 2 - Julia Hernández Elena"
   ]
  },
  {
   "cell_type": "code",
   "execution_count": 24,
   "metadata": {},
   "outputs": [],
   "source": [
    "import os\n",
    "import pandas as pd\n",
    "\n",
    "from pyspark import SparkConf\n",
    "from pyspark.sql import SparkSession\n",
    "from pyspark.sql import Row\n",
    "import pyspark.sql.functions as F"
   ]
  },
  {
   "cell_type": "code",
   "execution_count": 18,
   "metadata": {},
   "outputs": [],
   "source": [
    "conf = (\n",
    "\n",
    "    SparkConf()\n",
    "    .setAppName(u\"[ICAI] Ejercicios Spark\")\n",
    "    .set(\"spark.executor.memory\", \"7g\")\n",
    "    .set(\"spark.executor.cores\", \"5\")\n",
    "    .set(\"spark.default.parallelism\", 600)\n",
    "    .set(\"spark.sql.shuffle.partitions\", 600) \n",
    "    .set(\"spark.dynamicAllocation.maxExecutors\", 2) \n",
    ")"
   ]
  },
  {
   "cell_type": "code",
   "execution_count": 19,
   "metadata": {},
   "outputs": [],
   "source": [
    "spark = (\n",
    "\n",
    "    SparkSession.builder\n",
    "    .config(conf=conf)\n",
    "    .enableHiveSupport()\n",
    "    .getOrCreate()\n",
    "\n",
    ")"
   ]
  },
  {
   "cell_type": "markdown",
   "metadata": {},
   "source": [
    "# EJERCICIO 2"
   ]
  },
  {
   "cell_type": "code",
   "execution_count": null,
   "metadata": {},
   "outputs": [],
   "source": [
    "!hadoop fs -ls /datos/dataframe/people-with-header-100k.txt"
   ]
  },
  {
   "cell_type": "markdown",
   "metadata": {},
   "source": [
    "### 1. Leer los datos hasta conseguir la estructura dada:"
   ]
  },
  {
   "cell_type": "code",
   "execution_count": 20,
   "metadata": {},
   "outputs": [],
   "source": [
    "people = (\n",
    "\n",
    "    spark.read\n",
    "    .options(header=True, inferSchema=True, sep =':')\n",
    "    .csv('/datos/dataframe/people-with-header-100k.txt')\n",
    "    \n",
    ").cache() #lo dejamos en cache para trabajar mas rapido"
   ]
  },
  {
   "cell_type": "code",
   "execution_count": 21,
   "metadata": {},
   "outputs": [
    {
     "name": "stdout",
     "output_type": "stream",
     "text": [
      "root\n",
      " |-- id: integer (nullable = true)\n",
      " |-- firstName: string (nullable = true)\n",
      " |-- middleName: string (nullable = true)\n",
      " |-- lastName: string (nullable = true)\n",
      " |-- gender: string (nullable = true)\n",
      " |-- birthDate: timestamp (nullable = true)\n",
      " |-- ssn: string (nullable = true)\n",
      " |-- salary: integer (nullable = true)\n",
      "\n"
     ]
    }
   ],
   "source": [
    "people.printSchema()"
   ]
  },
  {
   "cell_type": "markdown",
   "metadata": {},
   "source": [
    "### 2. Mostrar los 5 primeros registros por pantalla:"
   ]
  },
  {
   "cell_type": "code",
   "execution_count": 22,
   "metadata": {},
   "outputs": [
    {
     "name": "stdout",
     "output_type": "stream",
     "text": [
      "+---+---------+----------+--------+------+-------------------+-----------+------+\n",
      "| id|firstName|middleName|lastName|gender|          birthDate|        ssn|salary|\n",
      "+---+---------+----------+--------+------+-------------------+-----------+------+\n",
      "|  1|  Angelia|   Claudie|  Newcom|     F|1973-12-25 00:00:00|913-89-7821| 92292|\n",
      "|  2|     Cher|  Serafina|   Boice|     F|1967-10-15 00:00:00|916-84-4461| 72490|\n",
      "|  3|   Easter|  Christia| Dempsey|     F|1976-05-27 00:00:00|961-44-7257| 83931|\n",
      "|  4|   Bonnie|   Chanell| Messent|     F|1984-01-07 00:00:00|901-91-5831| 92906|\n",
      "|  5|    Maren|   Shawana|Crauford|     F|1963-05-13 00:00:00|912-18-4568| 72483|\n",
      "+---+---------+----------+--------+------+-------------------+-----------+------+\n",
      "only showing top 5 rows\n",
      "\n"
     ]
    }
   ],
   "source": [
    "people.show(5)"
   ]
  },
  {
   "cell_type": "markdown",
   "metadata": {},
   "source": [
    "### 3. Para cada tipo de género, calcular:"
   ]
  },
  {
   "cell_type": "markdown",
   "metadata": {},
   "source": [
    "- El máximo de birthDate\n",
    "- El mínimo de birthDate\n",
    "- El media de salary"
   ]
  },
  {
   "cell_type": "code",
   "execution_count": 25,
   "metadata": {
    "scrolled": true
   },
   "outputs": [
    {
     "name": "stdout",
     "output_type": "stream",
     "text": [
      "+------+-------------------+-------------------+--------------+\n",
      "|gender|       Max Birthday|       Min Birthday|Mean of salary|\n",
      "+------+-------------------+-------------------+--------------+\n",
      "|     F|2000-01-30 00:00:00|1951-12-31 00:00:00|   72807.27248|\n",
      "|     M|2000-01-30 00:00:00|1952-01-01 00:00:00|   72691.80502|\n",
      "+------+-------------------+-------------------+--------------+\n",
      "\n"
     ]
    }
   ],
   "source": [
    "people.groupBy(\"gender\").agg(\n",
    "    F.max(\"birthDate\").alias(\"Max Birthday\"),\n",
    "    F.min(\"birthDate\").alias(\"Min Birthday\"),\n",
    "    F.mean(\"salary\").alias(\"Mean of salary\")\n",
    "\n",
    ").show()"
   ]
  },
  {
   "cell_type": "code",
   "execution_count": 26,
   "metadata": {},
   "outputs": [],
   "source": [
    "spark.stop()"
   ]
  },
  {
   "cell_type": "code",
   "execution_count": null,
   "metadata": {},
   "outputs": [],
   "source": []
  }
 ],
 "metadata": {
  "kernelspec": {
   "display_name": "Anaconda3",
   "language": "python",
   "name": "anaconda3"
  },
  "language_info": {
   "codemirror_mode": {
    "name": "ipython",
    "version": 3
   },
   "file_extension": ".py",
   "mimetype": "text/x-python",
   "name": "python",
   "nbconvert_exporter": "python",
   "pygments_lexer": "ipython3",
   "version": "3.7.3"
  }
 },
 "nbformat": 4,
 "nbformat_minor": 2
}

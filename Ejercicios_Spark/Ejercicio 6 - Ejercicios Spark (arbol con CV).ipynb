{
 "cells": [
  {
   "cell_type": "markdown",
   "metadata": {},
   "source": [
    "# EJERCICIOS SPARK, Ejercicio 6 - Julia Hernández Elena"
   ]
  },
  {
   "cell_type": "code",
   "execution_count": 1,
   "metadata": {},
   "outputs": [],
   "source": [
    "import os\n",
    "import pandas as pd\n",
    "\n",
    "from pyspark import SparkConf\n",
    "from pyspark.sql import SparkSession\n",
    "from pyspark.sql import Row\n",
    "\n",
    "import pyspark.sql.functions as F\n",
    "import pyspark.sql.types as T\n",
    "from pyspark.sql.window import Window\n"
   ]
  },
  {
   "cell_type": "code",
   "execution_count": 2,
   "metadata": {},
   "outputs": [],
   "source": [
    "conf = (\n",
    "\n",
    "    SparkConf()\n",
    "    .setAppName(u\"[ICAI] Ejercicios Spark\")\n",
    "    .set(\"spark.executor.memory\", \"7g\")\n",
    "    .set(\"spark.executor.cores\", \"5\")\n",
    "    .set(\"spark.default.parallelism\", 600)\n",
    "    .set(\"spark.sql.shuffle.partitions\", 600) \n",
    "    .set(\"spark.dynamicAllocation.maxExecutors\", 2) \n",
    ")"
   ]
  },
  {
   "cell_type": "code",
   "execution_count": 3,
   "metadata": {},
   "outputs": [],
   "source": [
    "spark = (\n",
    "\n",
    "    SparkSession.builder\n",
    "    .config(conf=conf)\n",
    "    .enableHiveSupport()\n",
    "    .getOrCreate()\n",
    "\n",
    ")"
   ]
  },
  {
   "cell_type": "markdown",
   "metadata": {},
   "source": [
    "# EJERCICIO 6"
   ]
  },
  {
   "cell_type": "code",
   "execution_count": 4,
   "metadata": {},
   "outputs": [],
   "source": [
    "from pyspark.ml.feature import VectorAssembler, VectorIndexer\n",
    "from pyspark.ml.regression import DecisionTreeRegressor, RandomForestRegressor\n",
    "from pyspark.ml import Pipeline\n",
    "from pyspark.ml.evaluation import RegressionEvaluator"
   ]
  },
  {
   "cell_type": "markdown",
   "metadata": {},
   "source": [
    "### 1. Leer el csv situando en /datos/hour.csv del hdfs."
   ]
  },
  {
   "cell_type": "code",
   "execution_count": 5,
   "metadata": {},
   "outputs": [],
   "source": [
    "hour = (\n",
    "\n",
    "    spark.read\n",
    "    .options(header=True, inferSchema=True)\n",
    "    .csv('/datos/hour.csv')\n",
    "    \n",
    ").cache() #lo dejamos en cache para trabajar mas rapido"
   ]
  },
  {
   "cell_type": "code",
   "execution_count": 64,
   "metadata": {},
   "outputs": [
    {
     "data": {
      "text/plain": [
       "17379"
      ]
     },
     "execution_count": 64,
     "metadata": {},
     "output_type": "execute_result"
    }
   ],
   "source": [
    "hour.count()"
   ]
  },
  {
   "cell_type": "code",
   "execution_count": 91,
   "metadata": {},
   "outputs": [
    {
     "name": "stdout",
     "output_type": "stream",
     "text": [
      "root\n",
      " |-- instant: integer (nullable = true)\n",
      " |-- dteday: timestamp (nullable = true)\n",
      " |-- season: integer (nullable = true)\n",
      " |-- yr: integer (nullable = true)\n",
      " |-- mnth: integer (nullable = true)\n",
      " |-- hr: integer (nullable = true)\n",
      " |-- holiday: integer (nullable = true)\n",
      " |-- weekday: integer (nullable = true)\n",
      " |-- workingday: integer (nullable = true)\n",
      " |-- weathersit: integer (nullable = true)\n",
      " |-- temp: double (nullable = true)\n",
      " |-- atemp: double (nullable = true)\n",
      " |-- hum: double (nullable = true)\n",
      " |-- windspeed: double (nullable = true)\n",
      " |-- casual: integer (nullable = true)\n",
      " |-- registered: integer (nullable = true)\n",
      " |-- cnt: integer (nullable = true)\n",
      "\n"
     ]
    }
   ],
   "source": [
    "hour.printSchema()"
   ]
  },
  {
   "cell_type": "markdown",
   "metadata": {},
   "source": [
    "### 2. Queremos hacer un modelo de ML para predecir la variable cnt, para ello haremos el primer preproceso:\n",
    "- #### Eliminar del dataset las variables casual y registerd ya que ambas forman cnt.\n",
    "- #### Eliminar también las variables instant y dteday ya que no se quieren usar en el modelo."
   ]
  },
  {
   "cell_type": "code",
   "execution_count": 92,
   "metadata": {},
   "outputs": [],
   "source": [
    "hour = hour.drop('casual', 'registered', 'instant', 'dteday')"
   ]
  },
  {
   "cell_type": "code",
   "execution_count": 93,
   "metadata": {},
   "outputs": [
    {
     "data": {
      "text/html": [
       "<div>\n",
       "<style scoped>\n",
       "    .dataframe tbody tr th:only-of-type {\n",
       "        vertical-align: middle;\n",
       "    }\n",
       "\n",
       "    .dataframe tbody tr th {\n",
       "        vertical-align: top;\n",
       "    }\n",
       "\n",
       "    .dataframe thead th {\n",
       "        text-align: right;\n",
       "    }\n",
       "</style>\n",
       "<table border=\"1\" class=\"dataframe\">\n",
       "  <thead>\n",
       "    <tr style=\"text-align: right;\">\n",
       "      <th></th>\n",
       "      <th>season</th>\n",
       "      <th>yr</th>\n",
       "      <th>mnth</th>\n",
       "      <th>hr</th>\n",
       "      <th>holiday</th>\n",
       "      <th>weekday</th>\n",
       "      <th>workingday</th>\n",
       "      <th>weathersit</th>\n",
       "      <th>temp</th>\n",
       "      <th>atemp</th>\n",
       "      <th>hum</th>\n",
       "      <th>windspeed</th>\n",
       "      <th>registered</th>\n",
       "      <th>cnt</th>\n",
       "    </tr>\n",
       "  </thead>\n",
       "  <tbody>\n",
       "    <tr>\n",
       "      <th>0</th>\n",
       "      <td>1</td>\n",
       "      <td>0</td>\n",
       "      <td>1</td>\n",
       "      <td>0</td>\n",
       "      <td>0</td>\n",
       "      <td>6</td>\n",
       "      <td>0</td>\n",
       "      <td>1</td>\n",
       "      <td>0.24</td>\n",
       "      <td>0.2879</td>\n",
       "      <td>0.81</td>\n",
       "      <td>0.0</td>\n",
       "      <td>13</td>\n",
       "      <td>16</td>\n",
       "    </tr>\n",
       "    <tr>\n",
       "      <th>1</th>\n",
       "      <td>1</td>\n",
       "      <td>0</td>\n",
       "      <td>1</td>\n",
       "      <td>1</td>\n",
       "      <td>0</td>\n",
       "      <td>6</td>\n",
       "      <td>0</td>\n",
       "      <td>1</td>\n",
       "      <td>0.22</td>\n",
       "      <td>0.2727</td>\n",
       "      <td>0.80</td>\n",
       "      <td>0.0</td>\n",
       "      <td>32</td>\n",
       "      <td>40</td>\n",
       "    </tr>\n",
       "    <tr>\n",
       "      <th>2</th>\n",
       "      <td>1</td>\n",
       "      <td>0</td>\n",
       "      <td>1</td>\n",
       "      <td>2</td>\n",
       "      <td>0</td>\n",
       "      <td>6</td>\n",
       "      <td>0</td>\n",
       "      <td>1</td>\n",
       "      <td>0.22</td>\n",
       "      <td>0.2727</td>\n",
       "      <td>0.80</td>\n",
       "      <td>0.0</td>\n",
       "      <td>27</td>\n",
       "      <td>32</td>\n",
       "    </tr>\n",
       "    <tr>\n",
       "      <th>3</th>\n",
       "      <td>1</td>\n",
       "      <td>0</td>\n",
       "      <td>1</td>\n",
       "      <td>3</td>\n",
       "      <td>0</td>\n",
       "      <td>6</td>\n",
       "      <td>0</td>\n",
       "      <td>1</td>\n",
       "      <td>0.24</td>\n",
       "      <td>0.2879</td>\n",
       "      <td>0.75</td>\n",
       "      <td>0.0</td>\n",
       "      <td>10</td>\n",
       "      <td>13</td>\n",
       "    </tr>\n",
       "    <tr>\n",
       "      <th>4</th>\n",
       "      <td>1</td>\n",
       "      <td>0</td>\n",
       "      <td>1</td>\n",
       "      <td>4</td>\n",
       "      <td>0</td>\n",
       "      <td>6</td>\n",
       "      <td>0</td>\n",
       "      <td>1</td>\n",
       "      <td>0.24</td>\n",
       "      <td>0.2879</td>\n",
       "      <td>0.75</td>\n",
       "      <td>0.0</td>\n",
       "      <td>1</td>\n",
       "      <td>1</td>\n",
       "    </tr>\n",
       "  </tbody>\n",
       "</table>\n",
       "</div>"
      ],
      "text/plain": [
       "   season  yr  mnth  hr  holiday  weekday  workingday  weathersit  temp  \\\n",
       "0       1   0     1   0        0        6           0           1  0.24   \n",
       "1       1   0     1   1        0        6           0           1  0.22   \n",
       "2       1   0     1   2        0        6           0           1  0.22   \n",
       "3       1   0     1   3        0        6           0           1  0.24   \n",
       "4       1   0     1   4        0        6           0           1  0.24   \n",
       "\n",
       "    atemp   hum  windspeed  registered  cnt  \n",
       "0  0.2879  0.81        0.0          13   16  \n",
       "1  0.2727  0.80        0.0          32   40  \n",
       "2  0.2727  0.80        0.0          27   32  \n",
       "3  0.2879  0.75        0.0          10   13  \n",
       "4  0.2879  0.75        0.0           1    1  "
      ]
     },
     "execution_count": 93,
     "metadata": {},
     "output_type": "execute_result"
    }
   ],
   "source": [
    "hour.limit(5).toPandas()"
   ]
  },
  {
   "cell_type": "markdown",
   "metadata": {},
   "source": [
    "### 3. Dibujar en un gráfico la variable hr (hora del día) frente a la variable cnt ¿Qué se observa?"
   ]
  },
  {
   "cell_type": "code",
   "execution_count": 94,
   "metadata": {},
   "outputs": [
    {
     "data": {
      "text/plain": [
       "<matplotlib.axes._subplots.AxesSubplot at 0x7f13c302e320>"
      ]
     },
     "execution_count": 94,
     "metadata": {},
     "output_type": "execute_result"
    },
    {
     "data": {
      "image/png": "[encoded data removed]",
      "text/plain": [
       "<Figure size 432x288 with 1 Axes>"
      ]
     },
     "metadata": {
      "needs_background": "light"
     },
     "output_type": "display_data"
    }
   ],
   "source": [
    "%matplotlib inline\n",
    "hour.select(\"hr\", \"cnt\").toPandas().plot.scatter(x=\"hr\", y=\"cnt\")"
   ]
  },
  {
   "cell_type": "markdown",
   "metadata": {},
   "source": [
    "### 4. Dividir el dataset en muestra de entrenamiento (70%) y validación (30%) con semilla de inicialización a 1234.\n"
   ]
  },
  {
   "cell_type": "code",
   "execution_count": 95,
   "metadata": {},
   "outputs": [
    {
     "data": {
      "text/plain": [
       "DataFrame[season: int, yr: int, mnth: int, hr: int, holiday: int, weekday: int, workingday: int, weathersit: int, temp: double, atemp: double, hum: double, windspeed: double, registered: int, cnt: int]"
      ]
     },
     "execution_count": 95,
     "metadata": {},
     "output_type": "execute_result"
    }
   ],
   "source": [
    "seed = 1234\n",
    "trainDF, testDF = hour.randomSplit([0.7, 0.3], seed=seed)\n",
    "trainDF.cache()\n",
    "testDF.cache()"
   ]
  },
  {
   "cell_type": "code",
   "execution_count": 96,
   "metadata": {},
   "outputs": [
    {
     "name": "stdout",
     "output_type": "stream",
     "text": [
      "Registros en trainDF: 12150\n",
      "Registros en testDF: 5229\n"
     ]
    }
   ],
   "source": [
    "print(\"Registros en trainDF: {}\".format(trainDF.count()))\n",
    "print(\"Registros en testDF: {}\".format(testDF.count()))"
   ]
  },
  {
   "cell_type": "markdown",
   "metadata": {},
   "source": [
    "### 5. Trabajando con los datos de entrenamiento, cerar una pipeline que contenga:\n"
   ]
  },
  {
   "cell_type": "markdown",
   "metadata": {},
   "source": [
    "- #### VectorAssembler, para unir todas las columnas en una única.\n",
    "- #### VectorIndexer, que nos ayuda a codificar las variables.\n",
    "- #### DecisionTreeRegressor, por último entrenar un árbol de regresión."
   ]
  },
  {
   "cell_type": "code",
   "execution_count": 97,
   "metadata": {},
   "outputs": [],
   "source": [
    "featureCols = hour.columns[:-1] #ya que cnt es lo que queremos predecir"
   ]
  },
  {
   "cell_type": "code",
   "execution_count": 98,
   "metadata": {},
   "outputs": [
    {
     "name": "stdout",
     "output_type": "stream",
     "text": [
      "Variables predictoras:\n",
      "\n",
      "season\n",
      "yr\n",
      "mnth\n",
      "hr\n",
      "holiday\n",
      "weekday\n",
      "workingday\n",
      "weathersit\n",
      "temp\n",
      "atemp\n",
      "hum\n",
      "windspeed\n",
      "registered\n"
     ]
    }
   ],
   "source": [
    "print(\"Variables predictoras:\\n\")\n",
    "for col in featureCols:\n",
    "    print(\"{}\".format(col))"
   ]
  },
  {
   "cell_type": "code",
   "execution_count": 99,
   "metadata": {},
   "outputs": [],
   "source": [
    "vectorAssembler = VectorAssembler(inputCols=featureCols, outputCol=\"rawfeatures\")"
   ]
  },
  {
   "cell_type": "code",
   "execution_count": 100,
   "metadata": {},
   "outputs": [],
   "source": [
    "vectorIndexer= VectorIndexer(inputCol=\"rawfeatures\", outputCol=\"features\")"
   ]
  },
  {
   "cell_type": "code",
   "execution_count": 101,
   "metadata": {},
   "outputs": [],
   "source": [
    "dt = DecisionTreeRegressor(labelCol='cnt')"
   ]
  },
  {
   "cell_type": "code",
   "execution_count": 102,
   "metadata": {},
   "outputs": [],
   "source": [
    "pipeline = Pipeline(stages = [vectorAssembler, vectorIndexer, dt])"
   ]
  },
  {
   "cell_type": "code",
   "execution_count": 103,
   "metadata": {},
   "outputs": [],
   "source": [
    "model = pipeline.fit(trainDF)"
   ]
  },
  {
   "cell_type": "markdown",
   "metadata": {},
   "source": [
    "### 6. Acceder al objeto de tipo árbol de dentro de nuestra pipeline y usar la función .toDebugString() para ver las reglas entrenadas."
   ]
  },
  {
   "cell_type": "code",
   "execution_count": 104,
   "metadata": {},
   "outputs": [
    {
     "name": "stdout",
     "output_type": "stream",
     "text": [
      "Reglas del arbol:\n",
      "\n",
      "DecisionTreeRegressionModel (uid=DecisionTreeRegressor_46aabd45cd7cf0c967d7) of depth 5 with 63 nodes\n",
      "  If (feature 12 <= 201.5)\n",
      "   If (feature 12 <= 84.5)\n",
      "    If (feature 12 <= 42.5)\n",
      "     If (feature 12 <= 19.5)\n",
      "      If (feature 12 <= 9.5)\n",
      "       Predict: 6.17971758664955\n",
      "      Else (feature 12 > 9.5)\n",
      "       Predict: 17.347142857142856\n",
      "     Else (feature 12 > 19.5)\n",
      "      If (feature 12 <= 33.5)\n",
      "       Predict: 31.13820078226858\n",
      "      Else (feature 12 > 33.5)\n",
      "       Predict: 44.36675461741425\n",
      "    Else (feature 12 > 42.5)\n",
      "     If (feature 12 <= 62.5)\n",
      "      If (feature 12 <= 52.5)\n",
      "       Predict: 56.60386473429951\n",
      "      Else (feature 12 > 52.5)\n",
      "       Predict: 67.77961432506888\n",
      "     Else (feature 12 > 62.5)\n",
      "      If (feature 12 <= 73.5)\n",
      "       Predict: 82.0935960591133\n",
      "      Else (feature 12 > 73.5)\n",
      "       Predict: 96.58355437665783\n",
      "   Else (feature 12 > 84.5)\n",
      "    If (feature 12 <= 137.5)\n",
      "     If (feature 12 <= 115.5)\n",
      "      If (feature 12 <= 105.5)\n",
      "       Predict: 117.89766839378238\n",
      "      Else (feature 12 > 105.5)\n",
      "       Predict: 137.192\n",
      "     Else (feature 12 > 115.5)\n",
      "      If (feature 8 <= 0.45)\n",
      "       Predict: 145.62541806020067\n",
      "      Else (feature 8 > 0.45)\n",
      "       Predict: 167.26057906458797\n",
      "    Else (feature 12 > 137.5)\n",
      "     If (feature 12 <= 171.5)\n",
      "      If (feature 5 in {1.0,2.0,3.0,4.0,5.0})\n",
      "       Predict: 187.48899755501222\n",
      "      Else (feature 5 not in {1.0,2.0,3.0,4.0,5.0})\n",
      "       Predict: 224.08856088560884\n",
      "     Else (feature 12 > 171.5)\n",
      "      If (feature 6 in {1.0})\n",
      "       Predict: 225.64492753623188\n",
      "      Else (feature 6 not in {1.0})\n",
      "       Predict: 274.91037735849056\n",
      "  Else (feature 12 > 201.5)\n",
      "   If (feature 12 <= 418.5)\n",
      "    If (feature 12 <= 313.5)\n",
      "     If (feature 6 in {1.0})\n",
      "      If (feature 12 <= 254.5)\n",
      "       Predict: 268.9626168224299\n",
      "      Else (feature 12 > 254.5)\n",
      "       Predict: 325.3951120162933\n",
      "     Else (feature 6 not in {1.0})\n",
      "      If (feature 12 <= 254.5)\n",
      "       Predict: 346.21065375302663\n",
      "      Else (feature 12 > 254.5)\n",
      "       Predict: 431.7949790794979\n",
      "    Else (feature 12 > 313.5)\n",
      "     If (feature 5 in {1.0,2.0,3.0,4.0,5.0})\n",
      "      If (feature 12 <= 357.5)\n",
      "       Predict: 383.525\n",
      "      Else (feature 12 > 357.5)\n",
      "       Predict: 430.46938775510205\n",
      "     Else (feature 5 not in {1.0,2.0,3.0,4.0,5.0})\n",
      "      If (feature 12 <= 357.5)\n",
      "       Predict: 524.4859154929577\n",
      "      Else (feature 12 > 357.5)\n",
      "       Predict: 606.4235294117647\n",
      "   Else (feature 12 > 418.5)\n",
      "    If (feature 12 <= 522.5)\n",
      "     If (feature 5 in {1.0,2.0,3.0,4.0,5.0})\n",
      "      If (feature 3 <= 8.5)\n",
      "       Predict: 487.97457627118644\n",
      "      Else (feature 3 > 8.5)\n",
      "       Predict: 534.8\n",
      "     Else (feature 5 not in {1.0,2.0,3.0,4.0,5.0})\n",
      "      If (feature 3 <= 17.5)\n",
      "       Predict: 693.483870967742\n",
      "      Else (feature 3 > 17.5)\n",
      "       Predict: 596.0\n",
      "    Else (feature 12 > 522.5)\n",
      "     If (feature 9 <= 0.5379)\n",
      "      If (feature 2 in {1.0,2.0,3.0,4.0,5.0,7.0,8.0,10.0,11.0})\n",
      "       Predict: 639.0661157024794\n",
      "      Else (feature 2 not in {1.0,2.0,3.0,4.0,5.0,7.0,8.0,10.0,11.0})\n",
      "       Predict: 747.1538461538462\n",
      "     Else (feature 9 > 0.5379)\n",
      "      If (feature 1 in {0.0})\n",
      "       Predict: 604.7692307692307\n",
      "      Else (feature 1 not in {0.0})\n",
      "       Predict: 757.0\n",
      "\n"
     ]
    }
   ],
   "source": [
    "print(\"Reglas del arbol:\\n\")\n",
    "print(model.stages[-1].toDebugString)"
   ]
  },
  {
   "cell_type": "markdown",
   "metadata": {},
   "source": [
    "### 7. Usar RegressionEvaluator que calcula el RMSE para evaluar el modelo tanto en la muestra de entrenamiento como en la de validación."
   ]
  },
  {
   "cell_type": "markdown",
   "metadata": {},
   "source": [
    "Primero calculamos la prediccion:"
   ]
  },
  {
   "cell_type": "code",
   "execution_count": 105,
   "metadata": {},
   "outputs": [],
   "source": [
    "predictionDF = model.transform(testDF)"
   ]
  },
  {
   "cell_type": "code",
   "execution_count": 106,
   "metadata": {},
   "outputs": [
    {
     "name": "stdout",
     "output_type": "stream",
     "text": [
      "Predicciones sobre testDF: \n",
      "+---+------------------+\n",
      "|cnt|        prediction|\n",
      "+---+------------------+\n",
      "| 22| 31.13820078226858|\n",
      "| 25| 31.13820078226858|\n",
      "| 33| 31.13820078226858|\n",
      "|  7|  6.17971758664955|\n",
      "| 16|17.347142857142856|\n",
      "| 25| 31.13820078226858|\n",
      "| 29| 31.13820078226858|\n",
      "|  1|  6.17971758664955|\n",
      "|  3|  6.17971758664955|\n",
      "|  6|  6.17971758664955|\n",
      "|  7|  6.17971758664955|\n",
      "|  2|  6.17971758664955|\n",
      "|  5|  6.17971758664955|\n",
      "| 20| 31.13820078226858|\n",
      "|  9|  6.17971758664955|\n",
      "|  1|  6.17971758664955|\n",
      "|  2|  6.17971758664955|\n",
      "|  2|  6.17971758664955|\n",
      "| 15|17.347142857142856|\n",
      "| 11|17.347142857142856|\n",
      "+---+------------------+\n",
      "only showing top 20 rows\n",
      "\n"
     ]
    }
   ],
   "source": [
    "print(\"Predicciones sobre testDF: \")\n",
    "predictionDF.select(\"cnt\", \"prediction\").show()"
   ]
  },
  {
   "cell_type": "markdown",
   "metadata": {},
   "source": [
    "Evaluamos la prediccion:"
   ]
  },
  {
   "cell_type": "code",
   "execution_count": 107,
   "metadata": {},
   "outputs": [],
   "source": [
    "evaluator = RegressionEvaluator(labelCol=\"cnt\")"
   ]
  },
  {
   "cell_type": "code",
   "execution_count": 108,
   "metadata": {},
   "outputs": [],
   "source": [
    "rmse_train = evaluator.evaluate(model.transform(trainDF))\n",
    "rmse_valid = evaluator.evaluate(predictionDF)"
   ]
  },
  {
   "cell_type": "code",
   "execution_count": 109,
   "metadata": {
    "scrolled": true
   },
   "outputs": [
    {
     "name": "stdout",
     "output_type": "stream",
     "text": [
      "RMSE de trainDF: 32.844021\n",
      "RMSE de testDF: 33.943699\n"
     ]
    }
   ],
   "source": [
    "print(\"RMSE de trainDF: {:3f}\".format(rmse_train))\n",
    "print(\"RMSE de testDF: {:3f}\".format(rmse_valid))"
   ]
  },
  {
   "cell_type": "code",
   "execution_count": null,
   "metadata": {},
   "outputs": [],
   "source": [
    "spark.stop()"
   ]
  },
  {
   "cell_type": "code",
   "execution_count": null,
   "metadata": {},
   "outputs": [],
   "source": []
  }
 ],
 "metadata": {
  "kernelspec": {
   "display_name": "Anaconda3",
   "language": "python",
   "name": "anaconda3"
  },
  "language_info": {
   "codemirror_mode": {
    "name": "ipython",
    "version": 3
   },
   "file_extension": ".py",
   "mimetype": "text/x-python",
   "name": "python",
   "nbconvert_exporter": "python",
   "pygments_lexer": "ipython3",
   "version": "3.7.3"
  }
 },
 "nbformat": 4,
 "nbformat_minor": 2
}

{
 "cells": [
  {
   "cell_type": "markdown",
   "metadata": {},
   "source": [
    "# EJERCICIOS SPARK, Ejercicio 4 - Julia Hernández Elena"
   ]
  },
  {
   "cell_type": "code",
   "execution_count": 14,
   "metadata": {},
   "outputs": [],
   "source": [
    "import os\n",
    "import pandas as pd\n",
    "\n",
    "from pyspark import SparkConf\n",
    "from pyspark.sql import SparkSession\n",
    "from pyspark.sql import Row\n",
    "import pyspark.sql.functions as F\n",
    "from pyspark.sql.window import Window\n"
   ]
  },
  {
   "cell_type": "code",
   "execution_count": 15,
   "metadata": {},
   "outputs": [],
   "source": [
    "conf = (\n",
    "\n",
    "    SparkConf()\n",
    "    .setAppName(u\"[ICAI] Ejercicios Spark\")\n",
    "    .set(\"spark.executor.memory\", \"7g\")\n",
    "    .set(\"spark.executor.cores\", \"5\")\n",
    "    .set(\"spark.default.parallelism\", 600)\n",
    "    .set(\"spark.sql.shuffle.partitions\", 600) \n",
    "    .set(\"spark.dynamicAllocation.maxExecutors\", 2) \n",
    ")"
   ]
  },
  {
   "cell_type": "code",
   "execution_count": 3,
   "metadata": {},
   "outputs": [],
   "source": [
    "spark = (\n",
    "\n",
    "    SparkSession.builder\n",
    "    .config(conf=conf)\n",
    "    .enableHiveSupport()\n",
    "    .getOrCreate()\n",
    "\n",
    ")"
   ]
  },
  {
   "cell_type": "markdown",
   "metadata": {},
   "source": [
    "# EJERCICIO 4"
   ]
  },
  {
   "cell_type": "markdown",
   "metadata": {},
   "source": [
    "### 1. Leer los dos dataset a DataFrame de spark:"
   ]
  },
  {
   "cell_type": "code",
   "execution_count": 4,
   "metadata": {},
   "outputs": [
    {
     "data": {
      "text/plain": [
       "pyspark.sql.dataframe.DataFrame"
      ]
     },
     "execution_count": 4,
     "metadata": {},
     "output_type": "execute_result"
    }
   ],
   "source": [
    "info_contenidos = spark.read.json(\"/datos/ejercicio_audis/info_contenidos.json\").cache()\n",
    "type(info_contenidos)"
   ]
  },
  {
   "cell_type": "code",
   "execution_count": 5,
   "metadata": {},
   "outputs": [
    {
     "name": "stdout",
     "output_type": "stream",
     "text": [
      "+--------+------------+\n",
      "|duracion|id_contenido|\n",
      "+--------+------------+\n",
      "|    7014|       93204|\n",
      "|    9177|      101632|\n",
      "|     869|      100787|\n",
      "|    7223|       93047|\n",
      "|    3600|      101451|\n",
      "+--------+------------+\n",
      "only showing top 5 rows\n",
      "\n"
     ]
    }
   ],
   "source": [
    "info_contenidos.show(5)"
   ]
  },
  {
   "cell_type": "code",
   "execution_count": 6,
   "metadata": {},
   "outputs": [
    {
     "data": {
      "text/plain": [
       "pyspark.sql.dataframe.DataFrame"
      ]
     },
     "execution_count": 6,
     "metadata": {},
     "output_type": "execute_result"
    }
   ],
   "source": [
    "audiencias = spark.read.load('/datos/ejercicio_audis/audiencias.parquet').cache()\n",
    "type(audiencias)"
   ]
  },
  {
   "cell_type": "code",
   "execution_count": 7,
   "metadata": {},
   "outputs": [
    {
     "name": "stdout",
     "output_type": "stream",
     "text": [
      "+-------+------------+---------------+---------------------+\n",
      "|id_user|id_contenido|         franja|segundos_visualizados|\n",
      "+-------+------------+---------------+---------------------+\n",
      "| 4810.0|       704.0|   FINDE_MANANA|                 4993|\n",
      "| 7212.0|       544.0|FINDE_PRIMETIME|                 1204|\n",
      "| 9794.0|       986.0|FINDE_MADRUGADA|                  130|\n",
      "|11421.0|       687.0|    FINDE_TARDE|                  123|\n",
      "|  344.0|      4776.0|    ENTRE_NOCHE|                 3391|\n",
      "+-------+------------+---------------+---------------------+\n",
      "only showing top 5 rows\n",
      "\n"
     ]
    }
   ],
   "source": [
    "audiencias.show(5)"
   ]
  },
  {
   "cell_type": "markdown",
   "metadata": {},
   "source": [
    "### 2. ¿Cuántos registros tienen el dataset audiencias?\n",
    "### ¿Cuántos registros tienen el dataset info_contenidos?"
   ]
  },
  {
   "cell_type": "code",
   "execution_count": 8,
   "metadata": {},
   "outputs": [
    {
     "data": {
      "text/plain": [
       "25595651"
      ]
     },
     "execution_count": 8,
     "metadata": {},
     "output_type": "execute_result"
    }
   ],
   "source": [
    "audiencias.count() #registros de audiencias"
   ]
  },
  {
   "cell_type": "code",
   "execution_count": 9,
   "metadata": {},
   "outputs": [
    {
     "data": {
      "text/plain": [
       "116290"
      ]
     },
     "execution_count": 9,
     "metadata": {},
     "output_type": "execute_result"
    }
   ],
   "source": [
    "info_contenidos.count() #registros de info_contenidos"
   ]
  },
  {
   "cell_type": "markdown",
   "metadata": {},
   "source": [
    "### 3. ¿Cuántos usuarios distintos hay?\n",
    "### ¿Cuántos contenidos distintos han sido reproducidos al menos una vez?"
   ]
  },
  {
   "cell_type": "code",
   "execution_count": 10,
   "metadata": {},
   "outputs": [
    {
     "name": "stdout",
     "output_type": "stream",
     "text": [
      "+------------------+--------------------+\n",
      "|Usuarios distintos|Contenidos distintos|\n",
      "+------------------+--------------------+\n",
      "|             43926|               11629|\n",
      "+------------------+--------------------+\n",
      "\n"
     ]
    }
   ],
   "source": [
    "users_distintos = (\n",
    "\n",
    "    audiencias.select(\n",
    "        F.countDistinct('id_user').alias('Usuarios distintos'),\n",
    "        F.countDistinct('id_contenido').alias('Contenidos distintos')\n",
    "        #*al reproducirse al menos una vez va a aparecer en el fichero\n",
    "    )\n",
    ").show()"
   ]
  },
  {
   "cell_type": "markdown",
   "metadata": {},
   "source": [
    "### 4. ¿Cuántos contenidos distintos han sido reproducidos al más de 5 veces?"
   ]
  },
  {
   "cell_type": "code",
   "execution_count": 11,
   "metadata": {},
   "outputs": [],
   "source": [
    "contenido_masde_5 = (\n",
    "\n",
    "    audiencias\n",
    "    .groupBy('id_contenido')\n",
    "    .count()\n",
    "    .filter('count>=5')\n",
    "    .count()\n",
    "    \n",
    ")"
   ]
  },
  {
   "cell_type": "code",
   "execution_count": 12,
   "metadata": {},
   "outputs": [
    {
     "name": "stdout",
     "output_type": "stream",
     "text": [
      "Contenidos distintos vistos mas de cinco veces: 10431\n"
     ]
    }
   ],
   "source": [
    "print(\"Contenidos distintos vistos mas de cinco veces: {}\" .format(contenido_masde_5))"
   ]
  },
  {
   "cell_type": "markdown",
   "metadata": {},
   "source": [
    "### 5. Es posible que un usario haya reproducido más de una vez el mismo contenidos, se quiere llegar a un nuevo DF que lo llamaremos `ratings` dónde solo aparezca una vez cada pareja de usuario/contenido. En este DF se guardará la `franja` con más segundos visualizados de ese contenido y la suma total de segundos visualizado."
   ]
  },
  {
   "cell_type": "code",
   "execution_count": 16,
   "metadata": {},
   "outputs": [],
   "source": [
    "ratings = (\n",
    "    \n",
    "    audiencias\n",
    "    \n",
    "    #Sumamos segundos para cada usuario contenido y franja\n",
    "    .groupBy('id_user', 'id_contenido', 'franja')\n",
    "    .agg( F.sum('segundos_visualizados').alias('segundos_visualizados'))\n",
    "    \n",
    "    #Calculamos la franja con mas segundos de visualizacion\n",
    "    .withColumn(\n",
    "        'dummy', \n",
    "        F.row_number()\n",
    "        .over(\n",
    "            Window\n",
    "            .partitionBy(\"id_user\",\"id_contenido\")\n",
    "            .orderBy(F.desc('segundos_visualizados'))\n",
    "        )\n",
    "    )\n",
    "    \n",
    "    #Sumamos los segundos totales \n",
    "    .withColumn(\n",
    "        'segundos_totales', \n",
    "        F.sum('segundos_visualizados')\n",
    "        .over(\n",
    "            Window\n",
    "            .partitionBy('id_user', 'id_contenido')\n",
    "        )\n",
    "    )\n",
    "    \n",
    "    #Nos quedamos con la franja con mas segundos\n",
    "    .filter('dummy=1')\n",
    "    \n",
    "    \n",
    "    #Seleccionamos las variables\n",
    "    .select('id_contenido', 'id_user', 'franja', 'segundos_totales')\n",
    "    \n",
    "    \n",
    ").cache()\n",
    "    "
   ]
  },
  {
   "cell_type": "code",
   "execution_count": 17,
   "metadata": {},
   "outputs": [
    {
     "name": "stdout",
     "output_type": "stream",
     "text": [
      "+-------+------------+---------------+---------------------+\n",
      "|id_user|id_contenido|         franja|segundos_visualizados|\n",
      "+-------+------------+---------------+---------------------+\n",
      "|  357.0|      1131.0|ENTRE_PRIMETIME|                  596|\n",
      "|  357.0|      1131.0|ENTRE_PRIMETIME|                  302|\n",
      "|  357.0|      1131.0|ENTRE_PRIMETIME|                  644|\n",
      "|  357.0|      1131.0|ENTRE_PRIMETIME|                  383|\n",
      "|  357.0|      1131.0|FINDE_SOBREMESA|                   96|\n",
      "+-------+------------+---------------+---------------------+\n",
      "\n",
      "+------------+-------+---------------+----------------+\n",
      "|id_contenido|id_user|         franja|segundos_totales|\n",
      "+------------+-------+---------------+----------------+\n",
      "|      1131.0|  357.0|ENTRE_PRIMETIME|            2021|\n",
      "+------------+-------+---------------+----------------+\n",
      "\n"
     ]
    }
   ],
   "source": [
    "#Chequeamos que lo hemos hecho correctamente filtrando por el usuario y el contenido que venian en el enunciado\n",
    "audiencias.filter('id_user=357.0').filter('id_contenido=1131.0').show()\n",
    "ratings.filter('id_user=357.0').filter('id_contenido=1131.0').show()"
   ]
  },
  {
   "cell_type": "markdown",
   "metadata": {},
   "source": [
    "### 6. Una vez calculado el DF ratings, cruza con la duración total del contenido para cada pareja usuario/contenidos, y calcular la siguiente columna nueva: \n",
    "### rating = min(segundos_totales/duracion, 1)"
   ]
  },
  {
   "cell_type": "code",
   "execution_count": 21,
   "metadata": {},
   "outputs": [],
   "source": [
    "ratings = (\n",
    "    \n",
    "    ratings\n",
    "\n",
    "    #Hago un Join con la duracion del contenido\n",
    "    .join(info_contenidos, 'id_contenido')\n",
    "    \n",
    "    #Calculamos el porcentaje de segundos vistos\n",
    "    .withColumn('ratings', F.col('segundos_totales') / F.col('duracion') )\n",
    "    \n",
    "    #Le damos un valor de 1 si el % es mayor que 1\n",
    "    .withColumn('rating', \n",
    "               F.when(F.col('ratings')>1, 1).otherwise(F.col('ratings')) )\n",
    "    \n",
    "    #Seleccionamos los campos que nos interesan\n",
    "    .select('id_contenido', 'id_user', 'franja', 'rating')\n",
    "    \n",
    ").cache()"
   ]
  },
  {
   "cell_type": "code",
   "execution_count": 22,
   "metadata": {},
   "outputs": [
    {
     "name": "stdout",
     "output_type": "stream",
     "text": [
      "+------------+-------+---------------+-------------------+\n",
      "|id_contenido|id_user|         franja|             rating|\n",
      "+------------+-------+---------------+-------------------+\n",
      "|      1131.0|  357.0|ENTRE_PRIMETIME|0.34874892148403797|\n",
      "+------------+-------+---------------+-------------------+\n",
      "\n"
     ]
    }
   ],
   "source": [
    "#Chequeamos que lo hemos hecho correctamente filtrando por el usuario y el contenido que venian en el enunciado\n",
    "ratings.filter('id_user=357.0').filter('id_contenido=1131.0').show()"
   ]
  },
  {
   "cell_type": "markdown",
   "metadata": {},
   "source": [
    "### 7. Analizar con describe el valor de esta nueva variable rating:"
   ]
  },
  {
   "cell_type": "code",
   "execution_count": 25,
   "metadata": {},
   "outputs": [
    {
     "name": "stdout",
     "output_type": "stream",
     "text": [
      "+-------+-----------+\n",
      "|summary|     rating|\n",
      "+-------+-----------+\n",
      "|  count|1.5342422E7|\n",
      "|   mean|     0.4024|\n",
      "| stddev|     0.3807|\n",
      "|    min|     1.0E-4|\n",
      "|    max|        1.0|\n",
      "+-------+-----------+\n",
      "\n"
     ]
    }
   ],
   "source": [
    "#Haceomos el describe de rating redondeando los valores a 4 decimales para facilitar la interpretacion\n",
    "ratings.describe('rating').withColumn('rating', F.round('rating', 4)).show()"
   ]
  },
  {
   "cell_type": "markdown",
   "metadata": {},
   "source": [
    "### 8. Guardar el DF ratings con el mismo nombre en hive, en el esquema personal de cada uno:"
   ]
  },
  {
   "cell_type": "code",
   "execution_count": 105,
   "metadata": {},
   "outputs": [],
   "source": [
    "mi_user = os.environ.get('USER') #cogemos nuetro nombre de usuario"
   ]
  },
  {
   "cell_type": "code",
   "execution_count": 106,
   "metadata": {},
   "outputs": [
    {
     "data": {
      "text/plain": [
       "'jhelena'"
      ]
     },
     "execution_count": 106,
     "metadata": {},
     "output_type": "execute_result"
    }
   ],
   "source": [
    "mi_user"
   ]
  },
  {
   "cell_type": "code",
   "execution_count": 108,
   "metadata": {},
   "outputs": [],
   "source": [
    "table_name = mi_user + \".ratings\" #nombramos la tabla"
   ]
  },
  {
   "cell_type": "code",
   "execution_count": 109,
   "metadata": {},
   "outputs": [],
   "source": [
    "ratings.write.mode('overwrite').saveAsTable(table_name)"
   ]
  },
  {
   "cell_type": "code",
   "execution_count": 26,
   "metadata": {},
   "outputs": [],
   "source": [
    "spark.stop()"
   ]
  },
  {
   "cell_type": "code",
   "execution_count": null,
   "metadata": {},
   "outputs": [],
   "source": []
  }
 ],
 "metadata": {
  "kernelspec": {
   "display_name": "Anaconda3",
   "language": "python",
   "name": "anaconda3"
  },
  "language_info": {
   "codemirror_mode": {
    "name": "ipython",
    "version": 3
   },
   "file_extension": ".py",
   "mimetype": "text/x-python",
   "name": "python",
   "nbconvert_exporter": "python",
   "pygments_lexer": "ipython3",
   "version": "3.7.3"
  }
 },
 "nbformat": 4,
 "nbformat_minor": 2
}
